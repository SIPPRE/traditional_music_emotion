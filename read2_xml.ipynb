{
 "cells": [
  {
   "cell_type": "code",
   "execution_count": 132,
   "metadata": {},
   "outputs": [
    {
     "name": "stdout",
     "output_type": "stream",
     "text": [
      "[ 1  0 39  0  0  1  0  0  0  0  0  0  0  0  0  0  0  0  0  0  0  1  0  0\n",
      "  0  0  1  0  0  0  0  1  0  0  0]\n"
     ]
    }
   ],
   "source": [
    "from bs4 import BeautifulSoup\n",
    "import numpy as np\n",
    "from csv import writer\n",
    "import glob\n",
    "\n",
    "\n",
    "# Reading the data inside the xml file to a variable under the name data\n",
    "with open('save1.xml', 'r') as f:\n",
    "\tdata = f.read()\n",
    "\t# Passing the stored data inside the beautifulsoup parser, storing the returned object\n",
    "\tBs_data = BeautifulSoup(data, \"xml\")\n",
    "\t\n",
    "\tsurv = Bs_data.find_all(\"response\")\n",
    "\t\n",
    "\t#make an array with all the responses\n",
    "\tsurv_array=np.zeros(35, dtype=int)\n",
    "\t\n",
    "\tfor count, tags in enumerate(surv):\n",
    "\t\tresp = tags.get(\"checked\")\n",
    "        #the results show the true responses in the survey\n",
    "\t\tif (resp == \"true\" and count<35):\n",
    "\t\t\tname = tags.get(\"name\")\n",
    "\t\t\tsurv_array[count]=1\n",
    "        \t\n",
    "\tfor count, tags in enumerate(surv):\n",
    "\t\tresp = tags.get(\"checked\")\n",
    "    \t#the results show the extra responses in 3 questions\n",
    "\t\tif (resp != \"true\" and resp !=\"false\" and count<35):\n",
    "\t\t\tname = tags.get(\"name\")\n",
    "        \n",
    "\tfor count, tags in enumerate(surv):\n",
    "\t\tif (count==2):\n",
    "\t\t\tage=int(tags.text)\n",
    "\t\t\tsurv_array[2]=int(age)\n",
    "\t\n",
    "\tprint(surv_array)"
   ]
  },
  {
   "cell_type": "code",
   "execution_count": null,
   "metadata": {},
   "outputs": [],
   "source": []
  }
 ],
 "metadata": {
  "kernelspec": {
   "display_name": "Python 3.10.4 ('pythonProject')",
   "language": "python",
   "name": "python3"
  },
  "language_info": {
   "codemirror_mode": {
    "name": "ipython",
    "version": 3
   },
   "file_extension": ".py",
   "mimetype": "text/x-python",
   "name": "python",
   "nbconvert_exporter": "python",
   "pygments_lexer": "ipython3",
   "version": "3.10.4"
  },
  "orig_nbformat": 4,
  "vscode": {
   "interpreter": {
    "hash": "cc3f1b923812753ab7b16aef1a6e1296e3db37adec65561cbb6bbff3e428fb01"
   }
  }
 },
 "nbformat": 4,
 "nbformat_minor": 2
}
